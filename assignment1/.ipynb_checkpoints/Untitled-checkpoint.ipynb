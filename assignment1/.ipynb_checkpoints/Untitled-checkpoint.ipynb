{
 "cells": [
  {
   "cell_type": "code",
   "execution_count": 2,
   "metadata": {
    "collapsed": false
   },
   "outputs": [
    {
     "name": "stdout",
     "output_type": "stream",
     "text": [
      "[3, 3, 3, 3, 3, 1, 1, 1, 2, 2, 4, 6, 7, 9]\n"
     ]
    },
    {
     "data": {
      "text/plain": [
       "3"
      ]
     },
     "execution_count": 2,
     "metadata": {},
     "output_type": "execute_result"
    }
   ],
   "source": [
    "l = [1,2,3,4,3,3,3,6,7,1,1,9,3,2]\n",
    "a = (sorted(l,key=l.count,reverse=True))\n",
    "print(a)\n",
    "a[0]"
   ]
  },
  {
   "cell_type": "code",
   "execution_count": 3,
   "metadata": {
    "collapsed": false
   },
   "outputs": [
    {
     "data": {
      "text/plain": [
       "array([2, 3, 4, 3])"
      ]
     },
     "execution_count": 3,
     "metadata": {},
     "output_type": "execute_result"
    }
   ],
   "source": [
    "import numpy as np\n",
    "ll = np.array(l)\n",
    "ll[np.array([1,2,3,4])]"
   ]
  },
  {
   "cell_type": "code",
   "execution_count": 4,
   "metadata": {
    "collapsed": true
   },
   "outputs": [],
   "source": [
    "test = np.array([[1,2,3],\n",
    "    [4,2,56],\n",
    "    [4,5,6],\n",
    "    [7,8,9]])\n",
    "train =  np.array([[1,2,3],\n",
    "    [4,5,6],\n",
    "    [7,8,9], \n",
    "    [2,3,4],\n",
    "    [3,1,6],\n",
    "    [23,4,21]])"
   ]
  },
  {
   "cell_type": "code",
   "execution_count": 5,
   "metadata": {
    "collapsed": false
   },
   "outputs": [
    {
     "name": "stdout",
     "output_type": "stream",
     "text": [
      "(4, 3)\n",
      "(6, 3)\n",
      "(4, 1, 3)\n"
     ]
    },
    {
     "data": {
      "text/plain": [
       "array([[   0,   27,  108,    3,   14,  812],\n",
       "       [2818, 2509, 2254, 2709, 2502, 1590],\n",
       "       [  27,    0,   27,   12,   17,  587],\n",
       "       [ 108,   27,    0,   75,   74,  416]])"
      ]
     },
     "execution_count": 5,
     "metadata": {},
     "output_type": "execute_result"
    }
   ],
   "source": [
    "print(test.shape)\n",
    "print(train.shape)\n",
    "print(test[:,np.newaxis].shape)\n",
    "((train-test[:,np.newaxis])**2).sum(axis=2)"
   ]
  },
  {
   "cell_type": "code",
   "execution_count": 6,
   "metadata": {
    "collapsed": false
   },
   "outputs": [
    {
     "data": {
      "text/plain": [
       "array([[[ 1,  2,  3]],\n",
       "\n",
       "       [[ 4,  2, 56]],\n",
       "\n",
       "       [[ 4,  5,  6]],\n",
       "\n",
       "       [[ 7,  8,  9]]])"
      ]
     },
     "execution_count": 6,
     "metadata": {},
     "output_type": "execute_result"
    }
   ],
   "source": [
    "test[:,np.newaxis]"
   ]
  },
  {
   "cell_type": "code",
   "execution_count": 7,
   "metadata": {
    "collapsed": false
   },
   "outputs": [
    {
     "data": {
      "text/plain": [
       "{0: 9, 3: 28}"
      ]
     },
     "execution_count": 7,
     "metadata": {},
     "output_type": "execute_result"
    }
   ],
   "source": [
    "k = {}\n",
    "k[0] = 9\n",
    "k[3]= 28\n",
    "k"
   ]
  },
  {
   "cell_type": "code",
   "execution_count": 8,
   "metadata": {
    "collapsed": false
   },
   "outputs": [
    {
     "data": {
      "text/plain": [
       "[array([[1, 2, 3],\n",
       "        [4, 5, 6]]), array([[7, 8, 9],\n",
       "        [2, 3, 4]]), array([[ 3,  1,  6],\n",
       "        [23,  4, 21]])]"
      ]
     },
     "execution_count": 8,
     "metadata": {},
     "output_type": "execute_result"
    }
   ],
   "source": [
    "np.array_split(train, 3)"
   ]
  },
  {
   "cell_type": "code",
   "execution_count": 9,
   "metadata": {
    "collapsed": false
   },
   "outputs": [
    {
     "data": {
      "text/plain": [
       "array([[ 4,  5,  6],\n",
       "       [ 7,  8,  9],\n",
       "       [ 2,  3,  4],\n",
       "       [ 3,  1,  6],\n",
       "       [23,  4, 21]])"
      ]
     },
     "execution_count": 9,
     "metadata": {},
     "output_type": "execute_result"
    }
   ],
   "source": [
    "\n",
    "np.concatenate((train[0:0] , train[1:]) )\n"
   ]
  },
  {
   "cell_type": "code",
   "execution_count": 10,
   "metadata": {
    "collapsed": false
   },
   "outputs": [
    {
     "name": "stdout",
     "output_type": "stream",
     "text": [
      "0 1\n",
      "1 3\n",
      "2 5\n",
      "3 8\n",
      "4 10\n",
      "5 12\n",
      "6 15\n",
      "7 20\n",
      "8 50\n",
      "9 100\n"
     ]
    }
   ],
   "source": [
    "k_choices = [1, 3, 5, 8, 10, 12, 15, 20, 50, 100]\n",
    "for i, k in enumerate(k_choices):\n",
    "    print(i, k)"
   ]
  },
  {
   "cell_type": "code",
   "execution_count": 11,
   "metadata": {
    "collapsed": false
   },
   "outputs": [
    {
     "data": {
      "text/plain": [
       "array([[1, 2, 3],\n",
       "       [2, 2, 6]])"
      ]
     },
     "execution_count": 11,
     "metadata": {},
     "output_type": "execute_result"
    }
   ],
   "source": [
    "np.concatenate(([[1,2,3]], [[2,2,6]]), axis = 0)"
   ]
  },
  {
   "cell_type": "code",
   "execution_count": 12,
   "metadata": {
    "collapsed": false
   },
   "outputs": [
    {
     "name": "stdout",
     "output_type": "stream",
     "text": [
      "(4, 3)\n",
      "(6, 3)\n",
      "(6, 4)\n"
     ]
    }
   ],
   "source": [
    "print(test.shape)\n",
    "print(train.shape)\n",
    "t1 = test.T.reshape(1,3,4)\n",
    "t2 = train.reshape(6,3,1)\n",
    "print((t1*t2).sum(axis=1).shape)"
   ]
  },
  {
   "cell_type": "code",
   "execution_count": 13,
   "metadata": {
    "collapsed": false
   },
   "outputs": [
    {
     "data": {
      "text/plain": [
       "(4, 6)"
      ]
     },
     "execution_count": 13,
     "metadata": {},
     "output_type": "execute_result"
    }
   ],
   "source": [
    "np.dot(test, train.T).shape\n"
   ]
  },
  {
   "cell_type": "code",
   "execution_count": 14,
   "metadata": {
    "collapsed": false
   },
   "outputs": [
    {
     "name": "stdout",
     "output_type": "stream",
     "text": [
      "[0 2 1]\n",
      "[False False False]\n"
     ]
    },
    {
     "data": {
      "text/plain": [
       "array([0, 0, 0])"
      ]
     },
     "execution_count": 14,
     "metadata": {},
     "output_type": "execute_result"
    }
   ],
   "source": [
    "import numpy.ma as ma\n",
    "a = np.array([0,2,1])\n",
    "b = np.array([3,4,2])\n",
    "xx = np.array([4,6,7])\n",
    "ax = ma.masked_array(a, mask=(a>b))\n",
    "amask = (a>b)\n",
    "print(ax)\n",
    "print(amask)\n",
    "amask*2 - 1 #(false: -1, true: 1)\n",
    "amask*1"
   ]
  },
  {
   "cell_type": "code",
   "execution_count": 15,
   "metadata": {
    "collapsed": false
   },
   "outputs": [
    {
     "data": {
      "text/plain": [
       "array([False, False, False], dtype=bool)"
      ]
     },
     "execution_count": 15,
     "metadata": {},
     "output_type": "execute_result"
    }
   ],
   "source": [
    "s = a # let s be the s vectors. s = Wx. \n",
    "# make a mask matrix. \n",
    "a>b[np.array([2,2,1])]\n",
    "#((s - si +1 >0)*s).sum() - si # si: the actual s. si: s[trainy[i]]"
   ]
  },
  {
   "cell_type": "code",
   "execution_count": 16,
   "metadata": {
    "collapsed": false
   },
   "outputs": [
    {
     "data": {
      "text/plain": [
       "array([2, 1])"
      ]
     },
     "execution_count": 16,
     "metadata": {},
     "output_type": "execute_result"
    }
   ],
   "source": [
    "bb = [[1,2,1], [2,4,1]]\n",
    "(bb > b[a,])\n",
    "c = np.array([1, 0])\n",
    "np.take(bb, c)"
   ]
  },
  {
   "cell_type": "code",
   "execution_count": 17,
   "metadata": {
    "collapsed": false
   },
   "outputs": [
    {
     "name": "stdout",
     "output_type": "stream",
     "text": [
      "[0 2 1]\n",
      "[3 4 2]\n"
     ]
    },
    {
     "data": {
      "text/plain": [
       "array([3, 2, 4])"
      ]
     },
     "execution_count": 17,
     "metadata": {},
     "output_type": "execute_result"
    }
   ],
   "source": [
    "print(a)\n",
    "print(b)\n",
    "b[a]"
   ]
  },
  {
   "cell_type": "code",
   "execution_count": 18,
   "metadata": {
    "collapsed": false
   },
   "outputs": [
    {
     "name": "stdout",
     "output_type": "stream",
     "text": [
      "[0 1 2 3 4]\n",
      "(5, 3)\n",
      "(5, 3)\n",
      "[[4 6 5 6 4]\n",
      " [1 2 5 2 1]\n",
      " [0 4 9 4 0]\n",
      " [3 8 1 8 3]\n",
      " [7 2 5 2 7]]\n",
      "[4 2 9 8 7]\n"
     ]
    }
   ],
   "source": [
    "b = np.array([[4,5,6],\n",
    "    [1,5,2],\n",
    "    [0,9,4], \n",
    "    [3,1,8],\n",
    "    [7,5,2]\n",
    "    ])\n",
    "mask = np.arange(5)\n",
    "print(mask)\n",
    "y = np.array([0,2,1,2,0])\n",
    "print(b.shape)\n",
    "print(b[mask,:].shape)\n",
    "print(b[:, y])\n",
    "print(b[mask,y])"
   ]
  },
  {
   "cell_type": "code",
   "execution_count": 19,
   "metadata": {
    "collapsed": false
   },
   "outputs": [
    {
     "name": "stdout",
     "output_type": "stream",
     "text": [
      "[[4 5 6]\n",
      " [1 5 2]\n",
      " [0 9 4]\n",
      " [3 1 8]\n",
      " [7 5 2]]\n",
      "[0 2 1 2 0]\n"
     ]
    },
    {
     "data": {
      "text/plain": [
       "array([ 11.,   9.,  10.])"
      ]
     },
     "execution_count": 19,
     "metadata": {},
     "output_type": "execute_result"
    }
   ],
   "source": [
    "print(b)\n",
    "print(y)\n",
    "s = np.identity(3)[y]*b\n",
    "s.sum(axis = 0)"
   ]
  },
  {
   "cell_type": "code",
   "execution_count": 20,
   "metadata": {
    "collapsed": false
   },
   "outputs": [
    {
     "name": "stdout",
     "output_type": "stream",
     "text": [
      "[4 3 4]\n"
     ]
    },
    {
     "data": {
      "text/plain": [
       "array([[7, 5, 2],\n",
       "       [3, 1, 8],\n",
       "       [7, 5, 2]])"
      ]
     },
     "execution_count": 20,
     "metadata": {},
     "output_type": "execute_result"
    }
   ],
   "source": [
    "train_sample = np.random.choice(5, 3, replace=True)\n",
    "print(train_sample)\n",
    "b[train_sample]"
   ]
  },
  {
   "cell_type": "code",
   "execution_count": 21,
   "metadata": {
    "collapsed": false
   },
   "outputs": [
    {
     "data": {
      "text/plain": [
       "array([2, 1, 1, 2, 0])"
      ]
     },
     "execution_count": 21,
     "metadata": {},
     "output_type": "execute_result"
    }
   ],
   "source": [
    "np.argmax(b, axis=1)"
   ]
  },
  {
   "cell_type": "code",
   "execution_count": 22,
   "metadata": {
    "collapsed": false
   },
   "outputs": [
    {
     "data": {
      "text/plain": [
       "array([[ 4,  3,  2],\n",
       "       [ 8,  6,  4],\n",
       "       [12,  9,  6]])"
      ]
     },
     "execution_count": 22,
     "metadata": {},
     "output_type": "execute_result"
    }
   ],
   "source": [
    "np.dot(np.reshape(np.array([1,2,3]), (3,1)),np.reshape(np.array([4,3,2]), (1,3)))"
   ]
  },
  {
   "cell_type": "code",
   "execution_count": 23,
   "metadata": {
    "collapsed": false
   },
   "outputs": [
    {
     "data": {
      "text/plain": [
       "array([[0],\n",
       "       [2],\n",
       "       [1]])"
      ]
     },
     "execution_count": 23,
     "metadata": {},
     "output_type": "execute_result"
    }
   ],
   "source": [
    "a[:, np.newaxis]"
   ]
  },
  {
   "cell_type": "code",
   "execution_count": 39,
   "metadata": {
    "collapsed": false
   },
   "outputs": [
    {
     "data": {
      "text/plain": [
       "(3, 2, 2)"
      ]
     },
     "execution_count": 39,
     "metadata": {},
     "output_type": "execute_result"
    }
   ],
   "source": [
    "a = np.array([1,2,3])\n",
    "b = np.identity(2)\n",
    "np.kron(b, a)\n",
    "s = np.multiply.outer(a, b)\n",
    "s.shape"
   ]
  },
  {
   "cell_type": "code",
   "execution_count": 54,
   "metadata": {
    "collapsed": false
   },
   "outputs": [
    {
     "name": "stdout",
     "output_type": "stream",
     "text": [
      "(4, 3) (3, 3, 2)\n",
      "(4, 3, 2)\n"
     ]
    },
    {
     "data": {
      "text/plain": [
       "array([[[ 18,  17],\n",
       "        [ 18,  17],\n",
       "        [ 18,  17]],\n",
       "\n",
       "       [[ 62,  73],\n",
       "        [ 62,  73],\n",
       "        [ 62,  73]],\n",
       "\n",
       "       [[ 11, 107],\n",
       "        [ 11, 107],\n",
       "        [ 11, 107]],\n",
       "\n",
       "       [[ 26,  33],\n",
       "        [ 26,  33],\n",
       "        [ 26,  33]]])"
      ]
     },
     "execution_count": 54,
     "metadata": {},
     "output_type": "execute_result"
    }
   ],
   "source": [
    "a = np.array([[0,1,2], [4,5,6], [32,1,1], [2,3,2]])\n",
    "b = np.array([[[0,3], \n",
    "             [4,5], \n",
    "             [7,6]], \n",
    "             \n",
    "             [[0,3], \n",
    "             [4,5], \n",
    "             [7,6]], \n",
    "             \n",
    "             [[0,3], \n",
    "             [4,5], \n",
    "             [7,6]], \n",
    "              \n",
    "             ])\n",
    "print(a.shape, b.shape)\n",
    "print(np.dot(a, b).shape)\n",
    "np.dot(a, b)"
   ]
  },
  {
   "cell_type": "code",
   "execution_count": 57,
   "metadata": {
    "collapsed": false
   },
   "outputs": [
    {
     "data": {
      "text/plain": [
       "array([[ 1.],\n",
       "       [ 1.],\n",
       "       [ 1.],\n",
       "       [ 1.]])"
      ]
     },
     "execution_count": 57,
     "metadata": {},
     "output_type": "execute_result"
    }
   ],
   "source": [
    "np.ones([4, 1])"
   ]
  },
  {
   "cell_type": "code",
   "execution_count": 73,
   "metadata": {
    "collapsed": false
   },
   "outputs": [
    {
     "name": "stdout",
     "output_type": "stream",
     "text": [
      "(4, 3)\n",
      "a: [[ 0  1  2]\n",
      " [ 4  5  6]\n",
      " [32  1  1]\n",
      " [ 2  3  2]]\n",
      "a*(a>3):  [[ 0  0  0]\n",
      " [ 4  5  6]\n",
      " [32  0  0]\n",
      " [ 0  0  0]]\n",
      "a[a>3]: [ 4  5  6 32]\n"
     ]
    }
   ],
   "source": [
    "print(a.shape)\n",
    "print(\"a:\" ,a)\n",
    "aa = (a>3)\n",
    "print(\"a*(a>3): \", a*aa)\n",
    "print(\"a[a>3]:\", a[a>3])"
   ]
  },
  {
   "cell_type": "code",
   "execution_count": null,
   "metadata": {
    "collapsed": true
   },
   "outputs": [],
   "source": []
  },
  {
   "cell_type": "code",
   "execution_count": null,
   "metadata": {
    "collapsed": true
   },
   "outputs": [],
   "source": []
  }
 ],
 "metadata": {
  "kernelspec": {
   "display_name": "Python 3",
   "language": "python",
   "name": "python3"
  },
  "language_info": {
   "codemirror_mode": {
    "name": "ipython",
    "version": 3
   },
   "file_extension": ".py",
   "mimetype": "text/x-python",
   "name": "python",
   "nbconvert_exporter": "python",
   "pygments_lexer": "ipython3",
   "version": "3.6.0"
  }
 },
 "nbformat": 4,
 "nbformat_minor": 2
}
