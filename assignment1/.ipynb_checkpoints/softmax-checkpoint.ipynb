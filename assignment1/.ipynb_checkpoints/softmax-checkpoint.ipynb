{
 "cells": [
  {
   "cell_type": "markdown",
   "metadata": {},
   "source": [
    "# Softmax exercise\n",
    "\n",
    "*Complete and hand in this completed worksheet (including its outputs and any supporting code outside of the worksheet) with your assignment submission. For more details see the [assignments page](http://vision.stanford.edu/teaching/cs231n/assignments.html) on the course website.*\n",
    "\n",
    "This exercise is analogous to the SVM exercise. You will:\n",
    "\n",
    "- implement a fully-vectorized **loss function** for the Softmax classifier\n",
    "- implement the fully-vectorized expression for its **analytic gradient**\n",
    "- **check your implementation** with numerical gradient\n",
    "- use a validation set to **tune the learning rate and regularization** strength\n",
    "- **optimize** the loss function with **SGD**\n",
    "- **visualize** the final learned weights\n"
   ]
  },
  {
   "cell_type": "code",
   "execution_count": 1,
   "metadata": {
    "collapsed": false
   },
   "outputs": [],
   "source": [
    "import random\n",
    "import numpy as np\n",
    "from cs231n.data_utils import load_CIFAR10\n",
    "import matplotlib.pyplot as plt\n",
    "\n",
    "from __future__ import print_function\n",
    "\n",
    "%matplotlib inline\n",
    "plt.rcParams['figure.figsize'] = (10.0, 8.0) # set default size of plots\n",
    "plt.rcParams['image.interpolation'] = 'nearest'\n",
    "plt.rcParams['image.cmap'] = 'gray'\n",
    "\n",
    "# for auto-reloading extenrnal modules\n",
    "# see http://stackoverflow.com/questions/1907993/autoreload-of-modules-in-ipython\n",
    "%load_ext autoreload\n",
    "%autoreload 2"
   ]
  },
  {
   "cell_type": "code",
   "execution_count": 2,
   "metadata": {
    "collapsed": false
   },
   "outputs": [
    {
     "name": "stdout",
     "output_type": "stream",
     "text": [
      "Train data shape:  (49000, 3073)\n",
      "Train labels shape:  (49000,)\n",
      "Validation data shape:  (1000, 3073)\n",
      "Validation labels shape:  (1000,)\n",
      "Test data shape:  (1000, 3073)\n",
      "Test labels shape:  (1000,)\n",
      "dev data shape:  (500, 3073)\n",
      "dev labels shape:  (500,)\n"
     ]
    }
   ],
   "source": [
    "def get_CIFAR10_data(num_training=49000, num_validation=1000, num_test=1000, num_dev=500):\n",
    "    \"\"\"\n",
    "    Load the CIFAR-10 dataset from disk and perform preprocessing to prepare\n",
    "    it for the linear classifier. These are the same steps as we used for the\n",
    "    SVM, but condensed to a single function.  \n",
    "    \"\"\"\n",
    "    # Load the raw CIFAR-10 data\n",
    "    cifar10_dir = 'cs231n/datasets/cifar-10-batches-py'\n",
    "    X_train, y_train, X_test, y_test = load_CIFAR10(cifar10_dir)\n",
    "    \n",
    "    # subsample the data\n",
    "    mask = list(range(num_training, num_training + num_validation))\n",
    "    X_val = X_train[mask]\n",
    "    y_val = y_train[mask]\n",
    "    mask = list(range(num_training))\n",
    "    X_train = X_train[mask]\n",
    "    y_train = y_train[mask]\n",
    "    mask = list(range(num_test))\n",
    "    X_test = X_test[mask]\n",
    "    y_test = y_test[mask]\n",
    "    mask = np.random.choice(num_training, num_dev, replace=False)\n",
    "    X_dev = X_train[mask]\n",
    "    y_dev = y_train[mask]\n",
    "    \n",
    "    # Preprocessing: reshape the image data into rows\n",
    "    X_train = np.reshape(X_train, (X_train.shape[0], -1))\n",
    "    X_val = np.reshape(X_val, (X_val.shape[0], -1))\n",
    "    X_test = np.reshape(X_test, (X_test.shape[0], -1))\n",
    "    X_dev = np.reshape(X_dev, (X_dev.shape[0], -1))\n",
    "    \n",
    "    # Normalize the data: subtract the mean image\n",
    "    mean_image = np.mean(X_train, axis = 0)\n",
    "    X_train -= mean_image\n",
    "    X_val -= mean_image\n",
    "    X_test -= mean_image\n",
    "    X_dev -= mean_image\n",
    "    \n",
    "    # add bias dimension and transform into columns\n",
    "    X_train = np.hstack([X_train, np.ones((X_train.shape[0], 1))])\n",
    "    X_val = np.hstack([X_val, np.ones((X_val.shape[0], 1))])\n",
    "    X_test = np.hstack([X_test, np.ones((X_test.shape[0], 1))])\n",
    "    X_dev = np.hstack([X_dev, np.ones((X_dev.shape[0], 1))])\n",
    "    \n",
    "    return X_train, y_train, X_val, y_val, X_test, y_test, X_dev, y_dev\n",
    "\n",
    "\n",
    "# Invoke the above function to get our data.\n",
    "X_train, y_train, X_val, y_val, X_test, y_test, X_dev, y_dev = get_CIFAR10_data()\n",
    "print('Train data shape: ', X_train.shape)\n",
    "print('Train labels shape: ', y_train.shape)\n",
    "print('Validation data shape: ', X_val.shape)\n",
    "print('Validation labels shape: ', y_val.shape)\n",
    "print('Test data shape: ', X_test.shape)\n",
    "print('Test labels shape: ', y_test.shape)\n",
    "print('dev data shape: ', X_dev.shape)\n",
    "print('dev labels shape: ', y_dev.shape)"
   ]
  },
  {
   "cell_type": "markdown",
   "metadata": {},
   "source": [
    "## Softmax Classifier\n",
    "\n",
    "Your code for this section will all be written inside **cs231n/classifiers/softmax.py**. \n"
   ]
  },
  {
   "cell_type": "code",
   "execution_count": 50,
   "metadata": {
    "collapsed": false
   },
   "outputs": [
    {
     "name": "stdout",
     "output_type": "stream",
     "text": [
      "(500, 3073)\n",
      "loss: 2.343355\n",
      "sanity check: 2.302585\n"
     ]
    }
   ],
   "source": [
    "# First implement the naive softmax loss function with nested loops.\n",
    "# Open the file cs231n/classifiers/softmax.py and implement the\n",
    "# softmax_loss_naive function.\n",
    "\n",
    "from cs231n.classifiers.softmax import softmax_loss_naive\n",
    "import time\n",
    "print(X_dev.shape)\n",
    "# Generate a random softmax weight matrix and use it to compute the loss.\n",
    "W = np.random.randn(3073, 10) * 0.0001\n",
    "loss, grad = softmax_loss_naive(W, X_dev, y_dev, 0.0)\n",
    "\n",
    "# As a rough sanity check, our loss should be something close to -log(0.1).\n",
    "print('loss: %f' % loss)\n",
    "print('sanity check: %f' % (-np.log(0.1)))\n"
   ]
  },
  {
   "cell_type": "markdown",
   "metadata": {},
   "source": [
    "## Inline Question 1:fxx nn.\n",
    "Why do we expect our loss to be close to -log(0.1)? Explain briefly.**\n",
    "\n",
    "**Your answer:** *Since W is random, the probability of getting the right answer is even. \n",
    "for W that is not scaled, the Loss Li = -log(1/n), and L = -nlog(1/n)/n, where n is number of possibilities*"
   ]
  },
  {
   "cell_type": "code",
   "execution_count": 51,
   "metadata": {
    "collapsed": false
   },
   "outputs": [
    {
     "name": "stdout",
     "output_type": "stream",
     "text": [
      "numerical: 1.014052 analytic: 1.014051, relative error: 9.177951e-08\n",
      "numerical: 3.410546 analytic: 3.410546, relative error: 3.167559e-08\n",
      "numerical: 1.548475 analytic: 1.548475, relative error: 5.738738e-08\n",
      "numerical: -1.151478 analytic: -1.151478, relative error: 2.684198e-08\n",
      "numerical: 0.596546 analytic: 0.596546, relative error: 9.865872e-08\n",
      "numerical: 0.404353 analytic: 0.404353, relative error: 1.501204e-07\n",
      "numerical: 2.550582 analytic: 2.550582, relative error: 1.987478e-08\n",
      "numerical: 1.228521 analytic: 1.228521, relative error: 4.812844e-08\n",
      "numerical: -1.140546 analytic: -1.140546, relative error: 6.895549e-09\n",
      "numerical: 1.948996 analytic: 1.948996, relative error: 1.962311e-08\n",
      "numerical: 0.573618 analytic: 0.573618, relative error: 3.417909e-08\n",
      "numerical: -1.624969 analytic: -1.624969, relative error: 1.541581e-08\n",
      "numerical: -0.456893 analytic: -0.456893, relative error: 2.623631e-08\n",
      "numerical: -4.265001 analytic: -4.265001, relative error: 6.163752e-10\n",
      "numerical: 2.022640 analytic: 2.022640, relative error: 3.050592e-08\n",
      "numerical: 0.073449 analytic: 0.073449, relative error: 3.525818e-07\n",
      "numerical: 1.780479 analytic: 1.780479, relative error: 3.099822e-08\n",
      "numerical: 0.743621 analytic: 0.743621, relative error: 3.434500e-08\n",
      "numerical: -1.658028 analytic: -1.658028, relative error: 1.634417e-09\n",
      "numerical: -3.876961 analytic: -3.876961, relative error: 6.436352e-09\n"
     ]
    }
   ],
   "source": [
    "# Complete the implementation of softmax_loss_naive and implement a (naive)\n",
    "# version of the gradient that uses nested loops.\n",
    "loss, grad = softmax_loss_naive(W, X_dev, y_dev, 0.0)\n",
    "\n",
    "# As we did for the SVM, use numeric gradient checking as a debugging tool.\n",
    "# The numeric gradient should be close to the analytic gradient.\n",
    "from cs231n.gradient_check import grad_check_sparse\n",
    "f = lambda w: softmax_loss_naive(w, X_dev, y_dev, 0.0)[0]\n",
    "grad_numerical = grad_check_sparse(f, W, grad, 10)\n",
    "\n",
    "# similar to SVM case, do another gradient check with regularization\n",
    "loss, grad = softmax_loss_naive(W, X_dev, y_dev, 5e1)\n",
    "f = lambda w: softmax_loss_naive(w, X_dev, y_dev, 5e1)[0]\n",
    "grad_numerical = grad_check_sparse(f, W, grad, 10)"
   ]
  },
  {
   "cell_type": "code",
   "execution_count": 60,
   "metadata": {
    "collapsed": false
   },
   "outputs": [
    {
     "name": "stdout",
     "output_type": "stream",
     "text": [
      "naive loss: 2.343355e+00 computed in 0.165897s\n",
      "vectorized loss: 2.343355e+00 computed in 0.006941s\n",
      "Loss difference: 0.000000\n",
      "Gradient difference: 0.000000\n"
     ]
    }
   ],
   "source": [
    "# Now that we have a naive implementation of the softmax loss function and its gradient,\n",
    "# implement a vectorized version in softmax_loss_vectorized.\n",
    "# The two versions should compute the same results, but the vectorized version should be\n",
    "# much faster.\n",
    "tic = time.time()\n",
    "loss_naive, grad_naive = softmax_loss_naive(W, X_dev, y_dev, 0.000005)\n",
    "toc = time.time()\n",
    "print('naive loss: %e computed in %fs' % (loss_naive, toc - tic))\n",
    "\n",
    "from cs231n.classifiers.softmax import softmax_loss_vectorized\n",
    "tic = time.time()\n",
    "loss_vectorized, grad_vectorized = softmax_loss_vectorized(W, X_dev, y_dev, 0.000005)\n",
    "toc = time.time()\n",
    "print('vectorized loss: %e computed in %fs' % (loss_vectorized, toc - tic))\n",
    "\n",
    "# As we did for the SVM, we use the Frobenius norm to compare the two versions\n",
    "# of the gradient.\n",
    "grad_difference = np.linalg.norm(grad_naive - grad_vectorized, ord='fro')\n",
    "print('Loss difference: %f' % np.abs(loss_naive - loss_vectorized))\n",
    "print('Gradient difference: %f' % grad_difference)"
   ]
  },
  {
   "cell_type": "code",
   "execution_count": null,
   "metadata": {
    "collapsed": false
   },
   "outputs": [],
   "source": []
  },
  {
   "cell_type": "code",
   "execution_count": 71,
   "metadata": {
    "collapsed": false
   },
   "outputs": [
    {
     "name": "stdout",
     "output_type": "stream",
     "text": [
      "lr 2.500000e-06 reg 1.522333e+02 train accuracy: 0.275776 val accuracy: 0.273000\n",
      "lr 2.500000e-06 reg 2.500000e+02 train accuracy: 0.266755 val accuracy: 0.271000\n",
      "lr 2.500000e-06 reg 1.000000e+03 train accuracy: 0.259367 val accuracy: 0.293000\n",
      "lr 2.500000e-06 reg 2.500000e+03 train accuracy: 0.263490 val accuracy: 0.256000\n",
      "lr 2.500000e-06 reg 1.000000e+04 train accuracy: 0.261429 val accuracy: 0.259000\n",
      "lr 2.500000e-06 reg 2.500000e+04 train accuracy: 0.268000 val accuracy: 0.262000\n",
      "lr 2.500000e-06 reg 1.000000e+05 train accuracy: 0.266898 val accuracy: 0.284000\n",
      "lr 5.594514e-06 reg 1.522333e+02 train accuracy: 0.288755 val accuracy: 0.286000\n",
      "lr 5.594514e-06 reg 2.500000e+02 train accuracy: 0.293939 val accuracy: 0.293000\n",
      "lr 5.594514e-06 reg 1.000000e+03 train accuracy: 0.274122 val accuracy: 0.260000\n",
      "lr 5.594514e-06 reg 2.500000e+03 train accuracy: 0.296469 val accuracy: 0.291000\n",
      "lr 5.594514e-06 reg 1.000000e+04 train accuracy: 0.294367 val accuracy: 0.319000\n",
      "lr 5.594514e-06 reg 2.500000e+04 train accuracy: 0.293388 val accuracy: 0.311000\n",
      "lr 5.594514e-06 reg 1.000000e+05 train accuracy: 0.291061 val accuracy: 0.285000\n",
      "lr 1.000000e-05 reg 1.522333e+02 train accuracy: 0.316837 val accuracy: 0.327000\n",
      "lr 1.000000e-05 reg 2.500000e+02 train accuracy: 0.272694 val accuracy: 0.272000\n",
      "lr 1.000000e-05 reg 1.000000e+03 train accuracy: 0.271898 val accuracy: 0.275000\n",
      "lr 1.000000e-05 reg 2.500000e+03 train accuracy: 0.304306 val accuracy: 0.308000\n",
      "lr 1.000000e-05 reg 1.000000e+04 train accuracy: 0.275184 val accuracy: 0.302000\n",
      "lr 1.000000e-05 reg 2.500000e+04 train accuracy: 0.254204 val accuracy: 0.267000\n",
      "lr 1.000000e-05 reg 1.000000e+05 train accuracy: 0.288633 val accuracy: 0.309000\n",
      "lr 2.500000e-05 reg 1.522333e+02 train accuracy: 0.287408 val accuracy: 0.288000\n",
      "lr 2.500000e-05 reg 2.500000e+02 train accuracy: 0.251959 val accuracy: 0.251000\n",
      "lr 2.500000e-05 reg 1.000000e+03 train accuracy: 0.251633 val accuracy: 0.245000\n",
      "lr 2.500000e-05 reg 2.500000e+03 train accuracy: 0.255184 val accuracy: 0.259000\n",
      "lr 2.500000e-05 reg 1.000000e+04 train accuracy: 0.259531 val accuracy: 0.245000\n",
      "lr 2.500000e-05 reg 2.500000e+04 train accuracy: 0.291857 val accuracy: 0.285000\n",
      "lr 2.500000e-05 reg 1.000000e+05 train accuracy: 0.267286 val accuracy: 0.251000\n",
      "best validation accuracy achieved during cross-validation: 0.327000\n"
     ]
    }
   ],
   "source": [
    "# Use the validation set to tune hyperparameters (regularization strength and\n",
    "# learning rate). You should experiment with different ranges for the learning\n",
    "# rates and regularization strengths; if you are careful you should be able to\n",
    "# get a classification accuracy of over 0.35 on the validation set.\n",
    "from cs231n.classifiers import Softmax\n",
    "results = {}\n",
    "best_val = -1\n",
    "best_softmax = None\n",
    "learning_rates = [ 2.5e-6,5.594514e-06, 1e-5, 2.5e-5]\n",
    "regularization_strengths = [ 1.522333e+02, 2.5e2, 1e3, 2.5e3, 1e4, 2.5e4, 1e5]\n",
    "\n",
    "num_iters = 100\n",
    "\n",
    "################################################################################\n",
    "# TODO:                                                                        #\n",
    "# Use the validation set to set the learning rate and regularization strength. #\n",
    "# This should be identical to the validation that you did for the SVM; save    #\n",
    "# the best trained softmax classifer in best_softmax.                          #\n",
    "################################################################################\n",
    "for lr in learning_rates:\n",
    "    for rs in regularization_strengths:\n",
    "        model = Softmax()\n",
    "        l, g = softmax_loss_vectorized(W, X_dev, y_dev, rs)\n",
    "        model.train(X_train, y_train, learning_rate=lr,\n",
    "                reg=rs, num_iters=num_iters)\n",
    "        train_acc = np.mean(model.predict(X_train) == y_train)\n",
    "        val_acc = np.mean(model.predict(X_val) == y_val)\n",
    "        results[(lr, rs)] = (train_acc, val_acc)\n",
    "\n",
    "        if val_acc > best_val:\n",
    "            best_val = val_acc\n",
    "            best_softmax = model\n",
    "        \n",
    "################################################################################\n",
    "#                              END OF YOUR CODE                                #\n",
    "################################################################################\n",
    "    \n",
    "# Print out results.\n",
    "for lr, reg in sorted(results):\n",
    "    train_accuracy, val_accuracy = results[(lr, reg)]\n",
    "    print('lr %e reg %e train accuracy: %f val accuracy: %f' % (\n",
    "                lr, reg, train_accuracy, val_accuracy))\n",
    "    \n",
    "print('best validation accuracy achieved during cross-validation: %f' % best_val)"
   ]
  },
  {
   "cell_type": "code",
   "execution_count": 72,
   "metadata": {
    "collapsed": false
   },
   "outputs": [
    {
     "name": "stdout",
     "output_type": "stream",
     "text": [
      "softmax on raw pixels final test set accuracy: 0.315000\n"
     ]
    }
   ],
   "source": [
    "# evaluate on test set\n",
    "# Evaluate the best softmax on test set\n",
    "y_test_pred = best_softmax.predict(X_test)\n",
    "test_accuracy = np.mean(y_test == y_test_pred)\n",
    "print('softmax on raw pixels final test set accuracy: %f' % (test_accuracy, ))"
   ]
  },
  {
   "cell_type": "code",
   "execution_count": 70,
   "metadata": {
    "collapsed": false
   },
   "outputs": [
    {
     "data": {
      "image/png": "[encoded data removed]",
      "text/plain": [
       "<matplotlib.figure.Figure at 0x7f8c2c2d4a58>"
      ]
     },
     "metadata": {},
     "output_type": "display_data"
    }
   ],
   "source": [
    "# Visualize the learned weights for each class\n",
    "w = best_softmax.W[:-1,:] # strip out the bias\n",
    "w = w.reshape(32, 32, 3, 10)\n",
    "\n",
    "w_min, w_max = np.min(w), np.max(w)\n",
    "\n",
    "classes = ['plane', 'car', 'bird', 'cat', 'deer', 'dog', 'frog', 'horse', 'ship', 'truck']\n",
    "for i in range(10):\n",
    "    plt.subplot(2, 5, i + 1)\n",
    "    \n",
    "    # Rescale the weights to be between 0 and 255\n",
    "    wimg = 255.0 * (w[:, :, :, i].squeeze() - w_min) / (w_max - w_min)\n",
    "    plt.imshow(wimg.astype('uint8'))\n",
    "    plt.axis('off')\n",
    "    plt.title(classes[i])"
   ]
  },
  {
   "cell_type": "code",
   "execution_count": null,
   "metadata": {
    "collapsed": true
   },
   "outputs": [],
   "source": []
  }
 ],
 "metadata": {
  "kernelspec": {
   "display_name": "Python 3",
   "language": "python",
   "name": "python3"
  },
  "language_info": {
   "codemirror_mode": {
    "name": "ipython",
    "version": 3
   },
   "file_extension": ".py",
   "mimetype": "text/x-python",
   "name": "python",
   "nbconvert_exporter": "python",
   "pygments_lexer": "ipython3",
   "version": "3.6.0"
  }
 },
 "nbformat": 4,
 "nbformat_minor": 0
}
